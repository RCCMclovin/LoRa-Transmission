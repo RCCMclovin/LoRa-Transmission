{
 "cells": [
  {
   "cell_type": "code",
   "execution_count": 1,
   "id": "a2d29d31",
   "metadata": {},
   "outputs": [],
   "source": [
    "import pandas as pd\n",
    "import numpy as np\n",
    "import glob"
   ]
  },
  {
   "cell_type": "code",
   "execution_count": 2,
   "id": "8c03e32d",
   "metadata": {},
   "outputs": [],
   "source": [
    "#g = glob.glob(\"experimento-final\\client\\*.csv\")\n",
    "#s = glob.glob(\"experimento-final\\server\\*.csv\")\n",
    "g = glob.glob(\"Linha-de-Visada\\client\\*.csv\")\n",
    "s = glob.glob(\"Linha-de-Visada\\server\\*.csv\")"
   ]
  },
  {
   "cell_type": "code",
   "execution_count": 24,
   "id": "1a116bf0",
   "metadata": {},
   "outputs": [],
   "source": [
    "def std_RSSI(d):\n",
    "    aux = []\n",
    "    for i in range(len(d)):\n",
    "        #if(d[3][i] != \"*;\"):\n",
    "        if(d[3][i] != \"*\"):\n",
    "            #aux.append(int(d[3][i].replace(\";\", \"\")))\n",
    "            aux.append(int(d[3][i]))\n",
    "\n",
    "\n",
    "    return np.std(np.array(aux))\n",
    "\n",
    "def media_RSSI(d):\n",
    "    m = 0\n",
    "    cont = 0\n",
    "    for i in range(len(d)):\n",
    "        #if(d[3][i] != \"*;\"):\n",
    "        if(d[3][i] != \"*\"):\n",
    "            #m += (int(d[3][i].replace(\";\", \"\")))\n",
    "            m += int((d[3][i]))\n",
    "            cont += 1\n",
    "    if(cont > 0):\n",
    "        return m/cont\n",
    "    return 0"
   ]
  },
  {
   "cell_type": "code",
   "execution_count": 12,
   "id": "bafc17e6",
   "metadata": {},
   "outputs": [],
   "source": [
    "def to_num(s):\n",
    "    s = s.split(':')\n",
    "    num = float(s[0])*3600+float(s[1])*60+float(s[2])\n",
    "    return num\n",
    "\n",
    "def std_envio(d):\n",
    "    tempo = []\n",
    "    for i in range(1, len(d)):\n",
    "        tempo.append(to_num(d[0][i]) - to_num(d[1][i-1]))\n",
    "\n",
    "    return np.std(np.array(tempo))\n",
    "\n",
    "def media_tempo(d):\n",
    "    c = 0;\n",
    "    m = 0\n",
    "    for i in range(1, len(d)):\n",
    "        m += (to_num(d[0][i]) - to_num(d[1][i-1]))\n",
    "        c += 1\n",
    "    return m / c"
   ]
  },
  {
   "cell_type": "code",
   "execution_count": 13,
   "id": "a8ab2f9a",
   "metadata": {},
   "outputs": [],
   "source": [
    "def sucessos(d):\n",
    "    cont = 0;\n",
    "    for i in range(1, len(d)):\n",
    "        if(d[2][i] == True):\n",
    "            cont += 1\n",
    "    return cont"
   ]
  },
  {
   "cell_type": "code",
   "execution_count": 44,
   "id": "cedd472d",
   "metadata": {},
   "outputs": [
    {
     "data": {
      "text/plain": [
       "{'nome': ['Linha-de-Visada\\\\client\\\\cliente 7-5.csv',\n",
       "  'Linha-de-Visada\\\\client\\\\cliente 7-6.csv',\n",
       "  'Linha-de-Visada\\\\client\\\\cliente 7-7.csv',\n",
       "  'Linha-de-Visada\\\\client\\\\cliente 7-8.csv',\n",
       "  'Linha-de-Visada\\\\client\\\\cliente 8-5.csv',\n",
       "  'Linha-de-Visada\\\\client\\\\cliente 8-6.csv',\n",
       "  'Linha-de-Visada\\\\client\\\\cliente 8-7.csv',\n",
       "  'Linha-de-Visada\\\\client\\\\cliente 8-8.csv',\n",
       "  'Linha-de-Visada\\\\client\\\\cliente 9-5.csv',\n",
       "  'Linha-de-Visada\\\\client\\\\cliente 9-6.csv',\n",
       "  'Linha-de-Visada\\\\client\\\\cliente 9-7.csv',\n",
       "  'Linha-de-Visada\\\\client\\\\cliente 9-8.csv'],\n",
       " 'taxa de sucesso': [31, 20, 5, 2, 39, 31, 50, 68, 54, 58, 21, 68],\n",
       " 'media RSSI': [-128.875,\n",
       "  -130.25,\n",
       "  -131.333,\n",
       "  -131.5,\n",
       "  -132.103,\n",
       "  -131.903,\n",
       "  -132.824,\n",
       "  -131.913,\n",
       "  -133.519,\n",
       "  -132.678,\n",
       "  -132.81,\n",
       "  -133.132],\n",
       " 'std RSSI': [1.691,\n",
       "  2.118,\n",
       "  0.943,\n",
       "  0.5,\n",
       "  1.598,\n",
       "  1.924,\n",
       "  2.121,\n",
       "  2.581,\n",
       "  1.941,\n",
       "  2.96,\n",
       "  3.216,\n",
       "  2.874],\n",
       " 'media tempo enviando': [0.402,\n",
       "  0.4,\n",
       "  0.401,\n",
       "  0.397,\n",
       "  0.401,\n",
       "  0.4,\n",
       "  0.4,\n",
       "  0.399,\n",
       "  0.4,\n",
       "  0.399,\n",
       "  0.401,\n",
       "  0.403],\n",
       " 'std tempo enviando': [0.023,\n",
       "  0.018,\n",
       "  0.016,\n",
       "  0.015,\n",
       "  0.017,\n",
       "  0.018,\n",
       "  0.016,\n",
       "  0.018,\n",
       "  0.016,\n",
       "  0.015,\n",
       "  0.016,\n",
       "  0.018],\n",
       " 'Timeout': [1, 1, 2, 3, 0, 2, 7, 3, 2, 4, 9, 3]}"
      ]
     },
     "execution_count": 44,
     "metadata": {},
     "output_type": "execute_result"
    }
   ],
   "source": [
    "tabela = {\"nome\":g,\"taxa de sucesso\":[], \"media RSSI\":[], \"std RSSI\":[], \"media tempo enviando\":[],\"std tempo enviando\":[], \"Timeout\":[]}\n",
    "contador_global = 0\n",
    "for f in g:\n",
    "    data = pd.read_csv(f,header=None)\n",
    "    aux = pd.read_csv(s[contador_global],header = None)\n",
    "    tabela[\"taxa de sucesso\"].append(round(sucessos(data), 3))\n",
    "    tabela[\"media RSSI\"].append(round(media_RSSI(data), 3))\n",
    "    tabela[\"std RSSI\"].append(round(std_RSSI(data), 3))\n",
    "    tabela[\"media tempo enviando\"].append(round(media_tempo(data), 3))\n",
    "    tabela[\"std tempo enviando\"].append(round(std_envio(data), 3))\n",
    "    tabela[\"Timeout\"].append(len(aux) - sucessos(data))\n",
    "    contador_global += 1\n",
    "tabela"
   ]
  },
  {
   "cell_type": "code",
   "execution_count": 45,
   "id": "9d82410a",
   "metadata": {},
   "outputs": [
    {
     "data": {
      "text/plain": [
       "<bound method NDFrame.head of                                       nome  taxa de sucesso  media RSSI  \\\n",
       "0   Linha-de-Visada\\client\\cliente 7-5.csv               31    -128.875   \n",
       "1   Linha-de-Visada\\client\\cliente 7-6.csv               20    -130.250   \n",
       "2   Linha-de-Visada\\client\\cliente 7-7.csv                5    -131.333   \n",
       "3   Linha-de-Visada\\client\\cliente 7-8.csv                2    -131.500   \n",
       "4   Linha-de-Visada\\client\\cliente 8-5.csv               39    -132.103   \n",
       "5   Linha-de-Visada\\client\\cliente 8-6.csv               31    -131.903   \n",
       "6   Linha-de-Visada\\client\\cliente 8-7.csv               50    -132.824   \n",
       "7   Linha-de-Visada\\client\\cliente 8-8.csv               68    -131.913   \n",
       "8   Linha-de-Visada\\client\\cliente 9-5.csv               54    -133.519   \n",
       "9   Linha-de-Visada\\client\\cliente 9-6.csv               58    -132.678   \n",
       "10  Linha-de-Visada\\client\\cliente 9-7.csv               21    -132.810   \n",
       "11  Linha-de-Visada\\client\\cliente 9-8.csv               68    -133.132   \n",
       "\n",
       "    std RSSI  media tempo enviando  std tempo enviando  Timeout  \n",
       "0      1.691                 0.402               0.023        1  \n",
       "1      2.118                 0.400               0.018        1  \n",
       "2      0.943                 0.401               0.016        2  \n",
       "3      0.500                 0.397               0.015        3  \n",
       "4      1.598                 0.401               0.017        0  \n",
       "5      1.924                 0.400               0.018        2  \n",
       "6      2.121                 0.400               0.016        7  \n",
       "7      2.581                 0.399               0.018        3  \n",
       "8      1.941                 0.400               0.016        2  \n",
       "9      2.960                 0.399               0.015        4  \n",
       "10     3.216                 0.401               0.016        9  \n",
       "11     2.874                 0.403               0.018        3  >"
      ]
     },
     "execution_count": 45,
     "metadata": {},
     "output_type": "execute_result"
    }
   ],
   "source": [
    "df = pd.DataFrame(tabela)\n",
    "df.head"
   ]
  },
  {
   "cell_type": "code",
   "execution_count": 46,
   "id": "011b245b",
   "metadata": {},
   "outputs": [],
   "source": [
    "#df.to_csv(\"resultados_final.csv\")\n",
    "df.to_csv(\"resultados_visada.csv\")"
   ]
  },
  {
   "cell_type": "code",
   "execution_count": null,
   "id": "aac2bb50",
   "metadata": {},
   "outputs": [],
   "source": []
  }
 ],
 "metadata": {
  "kernelspec": {
   "display_name": "Python 3 (ipykernel)",
   "language": "python",
   "name": "python3"
  },
  "language_info": {
   "codemirror_mode": {
    "name": "ipython",
    "version": 3
   },
   "file_extension": ".py",
   "mimetype": "text/x-python",
   "name": "python",
   "nbconvert_exporter": "python",
   "pygments_lexer": "ipython3",
   "version": "3.10.4"
  }
 },
 "nbformat": 4,
 "nbformat_minor": 5
}
